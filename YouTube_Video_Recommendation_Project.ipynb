{
  "nbformat": 4,
  "nbformat_minor": 0,
  "metadata": {
    "colab": {
      "provenance": []
    },
    "kernelspec": {
      "name": "python3",
      "display_name": "Python 3"
    },
    "language_info": {
      "name": "python"
    }
  },
  "cells": [
    {
      "cell_type": "code",
      "execution_count": 1,
      "metadata": {
        "colab": {
          "base_uri": "https://localhost:8080/"
        },
        "id": "8eCfZTCcki3j",
        "outputId": "f9e029f6-bb4b-4c60-d863-11ddef3423fe"
      },
      "outputs": [
        {
          "output_type": "stream",
          "name": "stdout",
          "text": [
            "Enter a keyword or part of a video title:\n",
            "funny telugu short film\n",
            "\n",
            " Recommended videos:\n",
            "  Telugu comedy movie clips\n",
            "  Deep learning explain in telugu\n",
            "  python tutorial for beginners\n"
          ]
        }
      ],
      "source": [
        "import pandas as pd\n",
        "from sklearn.feature_extraction.text import TfidfVectorizer\n",
        "from sklearn.metrics.pairwise import cosine_similarity\n",
        "#we create a u tube like dataset with like\n",
        "# 1) video link\n",
        "# 2) title\n",
        "# 3) description\n",
        "data = {\n",
        "    'video_id ': [1,2,3,4,5],\n",
        "    'title': ['python tutorial for beginners',\n",
        "              'Telugu comedy movie clips',\n",
        "              'Machine learning full cource',\n",
        "              'Funny telugu short film',\n",
        "              'Deep learning explain in telugu'\n",
        "              ],\n",
        "    'description': ['Learn python from scratch with hands on examples',\n",
        "                    'Best comedy scenes from latest telugu movies',\n",
        "                    'Start your ml journey with this full length cource',\n",
        "                    'A hilarious short film in telughu about college life',\n",
        "                    'Clear explation of deep learning concepts in telugu'\n",
        "                    ]\n",
        "\n",
        "}\n",
        "#we combine title and description into one coloumn  called content\n",
        "df = pd.DataFrame(data)\n",
        "df['content'] = df['title'] + \" \" + df['description']\n",
        "\n",
        "#convert text into vectors using tf-idf\n",
        "tfidf = TfidfVectorizer(stop_words = 'english')\n",
        "tfidf_matrix = tfidf.fit_transform(df['content'])\n",
        "#caluculate similarity between videos\n",
        "similarity_matrix = cosine_similarity(tfidf_matrix)\n",
        "#recomended function\n",
        "def recommend(video_title, df, similarity_matrix):\n",
        "    try:\n",
        "        idx = df[df['title'].str.contains(video_title,case=False,na=False)].index[0]\n",
        "    except IndexError:\n",
        "        return [\"Video not found.\"]\n",
        "    sim_scores = list(enumerate(similarity_matrix[idx]))\n",
        "    sim_scores = sorted(sim_scores, key=lambda x: x[1], reverse=True)[1:4]\n",
        "    video_indices = [i[0] for i in sim_scores]\n",
        "    return df['title'].iloc[video_indices].tolist()\n",
        "\n",
        "print(\"Enter a keyword or part of a video title:\")\n",
        "user_input = input()\n",
        "print(f\"\\n Recommended videos:\")\n",
        "for video in recommend(user_input, df, similarity_matrix):\n",
        "  print(\" \", video)"
      ]
    }
  ]
}